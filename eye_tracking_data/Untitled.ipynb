{
 "cells": [
  {
   "cell_type": "code",
   "execution_count": 2,
   "metadata": {},
   "outputs": [],
   "source": [
    "#importing necessary libraries\n",
    "import pandas as pd\n",
    "import numpy as np\n",
    "import matplotlib.pyplot as plt\n",
    "import seaborn as sns\n",
    "import os\n",
    "import sys\n",
    "import warnings\n",
    "warnings.filterwarnings(\"ignore\")"
   ]
  },
  {
   "cell_type": "code",
   "execution_count": 5,
   "metadata": {},
   "outputs": [],
   "source": [
    "tree_fxd_df = pd.read_csv(\"p1/p1.treeFXD.txt\", sep = \"\\t\", header=None)\n",
    "tree_gzd_df = pd.read_csv(\"p1/p1.treeGZD.txt\", sep = \"\\t\", header=None)\n",
    "graph_fxd_df = pd.read_csv(\"p1/p1.graphFXD.txt\", sep = \"\\t\", header=None)\n",
    "graph_gzd_df = pd.read_csv(\"p1/p1.graphGZD.txt\", sep = \"\\t\", header=None)\n",
    "baseline_gzd_df =  pd.read_csv(\"p1/p1GZD.txt\", sep = \"\\t\", header=None)"
   ]
  },
  {
   "cell_type": "code",
   "execution_count": 6,
   "metadata": {},
   "outputs": [],
   "source": [
    "tree_gzd_df.rename(columns ={0:'time', \n",
    "                     1: 'number', \n",
    "                     2: 'screen_x_left_eye', \n",
    "                     3: 'screen_y_left_eye', \n",
    "                     4: 'cam_x_left_eye',\n",
    "                     5:'cam_y_left_eye',\n",
    "                     6:'distance_left_eye',\n",
    "                     7:'pupil_left_eye',\n",
    "                     8:'code_left_eye', \n",
    "                    9:'screen_x_right_eye', \n",
    "                    10:'screen_y_right_eye',\n",
    "                    11:'cam_x_rigth_eye',\n",
    "                    12:'cam_y_right_eye',\n",
    "                    13:'distance_right_eye', \n",
    "                    14:'pupil_right_eye', \n",
    "                    15:'code_right_eye'},inplace = True)"
   ]
  },
  {
   "cell_type": "code",
   "execution_count": 7,
   "metadata": {},
   "outputs": [],
   "source": [
    "graph_fxd_df.rename(columns = {0:'number', \n",
    "                     1: 'time', \n",
    "                     2: 'duration', \n",
    "                     3: 'screen_x', \n",
    "                     4: 'secrren_y'}, inplace = True)"
   ]
  },
  {
   "cell_type": "code",
   "execution_count": 8,
   "metadata": {},
   "outputs": [],
   "source": [
    "graph_gzd_df.rename(columns ={0:'time', \n",
    "                     1: 'number', \n",
    "                     2: 'screen_x_left_eye', \n",
    "                     3: 'screen_y_left_eye', \n",
    "                     4: 'cam_x_left_eye',\n",
    "                     5:'cam_y_left_eye',\n",
    "                     6:'distance_left_eye',\n",
    "                     7:'pupil_left_eye',\n",
    "                     8:'code_left_eye', \n",
    "                    9:'screen_x_right_eye', \n",
    "                    10:'screen_y_right_eye',\n",
    "                    11:'cam_x_rigth_eye',\n",
    "                    12:'cam_y_right_eye',\n",
    "                    13:'distance_right_eye', \n",
    "                    14:'pupil_right_eye', \n",
    "                    15:'code_right_eye'},inplace = True)"
   ]
  },
  {
   "cell_type": "code",
   "execution_count": 9,
   "metadata": {},
   "outputs": [],
   "source": [
    "\n",
    "baseline_gzd_df.rename(columns ={0:'time', \n",
    "                     1: 'number', \n",
    "                     2: 'screen_x_left_eye', \n",
    "                     3: 'screen_y_left_eye', \n",
    "                     4: 'cam_x_left_eye',\n",
    "                     5:'cam_y_left_eye',\n",
    "                     6:'distance_left_eye',\n",
    "                     7:'pupil_left_eye',\n",
    "                     8:'code_left_eye', \n",
    "                    9:'screen_x_right_eye', \n",
    "                    10:'screen_y_right_eye',\n",
    "                    11:'cam_x_rigth_eye',\n",
    "                    12:'cam_y_right_eye',\n",
    "                    13:'distance_right_eye', \n",
    "                    14:'pupil_right_eye', \n",
    "                    15:'code_right_eye'},inplace = True)"
   ]
  },
  {
   "cell_type": "code",
   "execution_count": 10,
   "metadata": {},
   "outputs": [],
   "source": [
    "baseline_gzd_df= baseline_gzd_df.loc[((baseline_gzd_df['code_left_eye'] == 0) & (baseline_gzd_df['code_right_eye'] == 0))]"
   ]
  },
  {
   "cell_type": "code",
   "execution_count": 11,
   "metadata": {},
   "outputs": [],
   "source": [
    "final_df_tree = tree_gzd_df.loc[((tree_gzd_df['code_left_eye'] == 0) & (tree_gzd_df['code_right_eye'] == 0))]"
   ]
  },
  {
   "cell_type": "code",
   "execution_count": 16,
   "metadata": {},
   "outputs": [
    {
     "ename": "KeyError",
     "evalue": "\"['screen_x_left_eye' 'screen_y_left_eye' 'cam_x_left_eye' 'cam_y_left_eye'\\n 'distance_left_eye' 'screen_x_right_eye' 'screen_y_right_eye'\\n 'cam_x_rigth_eye' 'cam_y_right_eye' 'distance_right_eye'] not found in axis\"",
     "output_type": "error",
     "traceback": [
      "\u001b[1;31m---------------------------------------------------------------------------\u001b[0m",
      "\u001b[1;31mKeyError\u001b[0m                                  Traceback (most recent call last)",
      "\u001b[1;32m<ipython-input-16-0d78ed640653>\u001b[0m in \u001b[0;36m<module>\u001b[1;34m\u001b[0m\n\u001b[0;32m      1\u001b[0m final_df_tree = final_df_tree.drop(['screen_x_left_eye','screen_y_left_eye','cam_x_left_eye','cam_y_left_eye',\n\u001b[0;32m      2\u001b[0m                                     \u001b[1;34m'distance_left_eye'\u001b[0m\u001b[1;33m,\u001b[0m\u001b[1;34m'screen_x_right_eye'\u001b[0m\u001b[1;33m,\u001b[0m\u001b[1;34m'screen_y_right_eye'\u001b[0m\u001b[1;33m,\u001b[0m\u001b[1;34m'cam_x_rigth_eye'\u001b[0m\u001b[1;33m,\u001b[0m\u001b[1;33m\u001b[0m\u001b[1;33m\u001b[0m\u001b[0m\n\u001b[1;32m----> 3\u001b[1;33m                                     'cam_y_right_eye', 'distance_right_eye'],axis = 1)\n\u001b[0m",
      "\u001b[1;32mC:\\Anaconda\\lib\\site-packages\\pandas\\core\\frame.py\u001b[0m in \u001b[0;36mdrop\u001b[1;34m(self, labels, axis, index, columns, level, inplace, errors)\u001b[0m\n\u001b[0;32m   3938\u001b[0m                                            \u001b[0mindex\u001b[0m\u001b[1;33m=\u001b[0m\u001b[0mindex\u001b[0m\u001b[1;33m,\u001b[0m \u001b[0mcolumns\u001b[0m\u001b[1;33m=\u001b[0m\u001b[0mcolumns\u001b[0m\u001b[1;33m,\u001b[0m\u001b[1;33m\u001b[0m\u001b[1;33m\u001b[0m\u001b[0m\n\u001b[0;32m   3939\u001b[0m                                            \u001b[0mlevel\u001b[0m\u001b[1;33m=\u001b[0m\u001b[0mlevel\u001b[0m\u001b[1;33m,\u001b[0m \u001b[0minplace\u001b[0m\u001b[1;33m=\u001b[0m\u001b[0minplace\u001b[0m\u001b[1;33m,\u001b[0m\u001b[1;33m\u001b[0m\u001b[1;33m\u001b[0m\u001b[0m\n\u001b[1;32m-> 3940\u001b[1;33m                                            errors=errors)\n\u001b[0m\u001b[0;32m   3941\u001b[0m \u001b[1;33m\u001b[0m\u001b[0m\n\u001b[0;32m   3942\u001b[0m     @rewrite_axis_style_signature('mapper', [('copy', True),\n",
      "\u001b[1;32mC:\\Anaconda\\lib\\site-packages\\pandas\\core\\generic.py\u001b[0m in \u001b[0;36mdrop\u001b[1;34m(self, labels, axis, index, columns, level, inplace, errors)\u001b[0m\n\u001b[0;32m   3778\u001b[0m         \u001b[1;32mfor\u001b[0m \u001b[0maxis\u001b[0m\u001b[1;33m,\u001b[0m \u001b[0mlabels\u001b[0m \u001b[1;32min\u001b[0m \u001b[0maxes\u001b[0m\u001b[1;33m.\u001b[0m\u001b[0mitems\u001b[0m\u001b[1;33m(\u001b[0m\u001b[1;33m)\u001b[0m\u001b[1;33m:\u001b[0m\u001b[1;33m\u001b[0m\u001b[1;33m\u001b[0m\u001b[0m\n\u001b[0;32m   3779\u001b[0m             \u001b[1;32mif\u001b[0m \u001b[0mlabels\u001b[0m \u001b[1;32mis\u001b[0m \u001b[1;32mnot\u001b[0m \u001b[1;32mNone\u001b[0m\u001b[1;33m:\u001b[0m\u001b[1;33m\u001b[0m\u001b[1;33m\u001b[0m\u001b[0m\n\u001b[1;32m-> 3780\u001b[1;33m                 \u001b[0mobj\u001b[0m \u001b[1;33m=\u001b[0m \u001b[0mobj\u001b[0m\u001b[1;33m.\u001b[0m\u001b[0m_drop_axis\u001b[0m\u001b[1;33m(\u001b[0m\u001b[0mlabels\u001b[0m\u001b[1;33m,\u001b[0m \u001b[0maxis\u001b[0m\u001b[1;33m,\u001b[0m \u001b[0mlevel\u001b[0m\u001b[1;33m=\u001b[0m\u001b[0mlevel\u001b[0m\u001b[1;33m,\u001b[0m \u001b[0merrors\u001b[0m\u001b[1;33m=\u001b[0m\u001b[0merrors\u001b[0m\u001b[1;33m)\u001b[0m\u001b[1;33m\u001b[0m\u001b[1;33m\u001b[0m\u001b[0m\n\u001b[0m\u001b[0;32m   3781\u001b[0m \u001b[1;33m\u001b[0m\u001b[0m\n\u001b[0;32m   3782\u001b[0m         \u001b[1;32mif\u001b[0m \u001b[0minplace\u001b[0m\u001b[1;33m:\u001b[0m\u001b[1;33m\u001b[0m\u001b[1;33m\u001b[0m\u001b[0m\n",
      "\u001b[1;32mC:\\Anaconda\\lib\\site-packages\\pandas\\core\\generic.py\u001b[0m in \u001b[0;36m_drop_axis\u001b[1;34m(self, labels, axis, level, errors)\u001b[0m\n\u001b[0;32m   3810\u001b[0m                 \u001b[0mnew_axis\u001b[0m \u001b[1;33m=\u001b[0m \u001b[0maxis\u001b[0m\u001b[1;33m.\u001b[0m\u001b[0mdrop\u001b[0m\u001b[1;33m(\u001b[0m\u001b[0mlabels\u001b[0m\u001b[1;33m,\u001b[0m \u001b[0mlevel\u001b[0m\u001b[1;33m=\u001b[0m\u001b[0mlevel\u001b[0m\u001b[1;33m,\u001b[0m \u001b[0merrors\u001b[0m\u001b[1;33m=\u001b[0m\u001b[0merrors\u001b[0m\u001b[1;33m)\u001b[0m\u001b[1;33m\u001b[0m\u001b[1;33m\u001b[0m\u001b[0m\n\u001b[0;32m   3811\u001b[0m             \u001b[1;32melse\u001b[0m\u001b[1;33m:\u001b[0m\u001b[1;33m\u001b[0m\u001b[1;33m\u001b[0m\u001b[0m\n\u001b[1;32m-> 3812\u001b[1;33m                 \u001b[0mnew_axis\u001b[0m \u001b[1;33m=\u001b[0m \u001b[0maxis\u001b[0m\u001b[1;33m.\u001b[0m\u001b[0mdrop\u001b[0m\u001b[1;33m(\u001b[0m\u001b[0mlabels\u001b[0m\u001b[1;33m,\u001b[0m \u001b[0merrors\u001b[0m\u001b[1;33m=\u001b[0m\u001b[0merrors\u001b[0m\u001b[1;33m)\u001b[0m\u001b[1;33m\u001b[0m\u001b[1;33m\u001b[0m\u001b[0m\n\u001b[0m\u001b[0;32m   3813\u001b[0m             \u001b[0mresult\u001b[0m \u001b[1;33m=\u001b[0m \u001b[0mself\u001b[0m\u001b[1;33m.\u001b[0m\u001b[0mreindex\u001b[0m\u001b[1;33m(\u001b[0m\u001b[1;33m**\u001b[0m\u001b[1;33m{\u001b[0m\u001b[0maxis_name\u001b[0m\u001b[1;33m:\u001b[0m \u001b[0mnew_axis\u001b[0m\u001b[1;33m}\u001b[0m\u001b[1;33m)\u001b[0m\u001b[1;33m\u001b[0m\u001b[1;33m\u001b[0m\u001b[0m\n\u001b[0;32m   3814\u001b[0m \u001b[1;33m\u001b[0m\u001b[0m\n",
      "\u001b[1;32mC:\\Anaconda\\lib\\site-packages\\pandas\\core\\indexes\\base.py\u001b[0m in \u001b[0;36mdrop\u001b[1;34m(self, labels, errors)\u001b[0m\n\u001b[0;32m   4963\u001b[0m             \u001b[1;32mif\u001b[0m \u001b[0merrors\u001b[0m \u001b[1;33m!=\u001b[0m \u001b[1;34m'ignore'\u001b[0m\u001b[1;33m:\u001b[0m\u001b[1;33m\u001b[0m\u001b[1;33m\u001b[0m\u001b[0m\n\u001b[0;32m   4964\u001b[0m                 raise KeyError(\n\u001b[1;32m-> 4965\u001b[1;33m                     '{} not found in axis'.format(labels[mask]))\n\u001b[0m\u001b[0;32m   4966\u001b[0m             \u001b[0mindexer\u001b[0m \u001b[1;33m=\u001b[0m \u001b[0mindexer\u001b[0m\u001b[1;33m[\u001b[0m\u001b[1;33m~\u001b[0m\u001b[0mmask\u001b[0m\u001b[1;33m]\u001b[0m\u001b[1;33m\u001b[0m\u001b[1;33m\u001b[0m\u001b[0m\n\u001b[0;32m   4967\u001b[0m         \u001b[1;32mreturn\u001b[0m \u001b[0mself\u001b[0m\u001b[1;33m.\u001b[0m\u001b[0mdelete\u001b[0m\u001b[1;33m(\u001b[0m\u001b[0mindexer\u001b[0m\u001b[1;33m)\u001b[0m\u001b[1;33m\u001b[0m\u001b[1;33m\u001b[0m\u001b[0m\n",
      "\u001b[1;31mKeyError\u001b[0m: \"['screen_x_left_eye' 'screen_y_left_eye' 'cam_x_left_eye' 'cam_y_left_eye'\\n 'distance_left_eye' 'screen_x_right_eye' 'screen_y_right_eye'\\n 'cam_x_rigth_eye' 'cam_y_right_eye' 'distance_right_eye'] not found in axis\""
     ]
    }
   ],
   "source": [
    "final_df_tree = final_df_tree.drop(['screen_x_left_eye','screen_y_left_eye','cam_x_left_eye','cam_y_left_eye',\n",
    "                                    'distance_left_eye','screen_x_right_eye','screen_y_right_eye','cam_x_rigth_eye', \n",
    "                                    'cam_y_right_eye', 'distance_right_eye'],axis = 1)"
   ]
  },
  {
   "cell_type": "code",
   "execution_count": 14,
   "metadata": {},
   "outputs": [
    {
     "data": {
      "text/html": [
       "<div>\n",
       "<style scoped>\n",
       "    .dataframe tbody tr th:only-of-type {\n",
       "        vertical-align: middle;\n",
       "    }\n",
       "\n",
       "    .dataframe tbody tr th {\n",
       "        vertical-align: top;\n",
       "    }\n",
       "\n",
       "    .dataframe thead th {\n",
       "        text-align: right;\n",
       "    }\n",
       "</style>\n",
       "<table border=\"1\" class=\"dataframe\">\n",
       "  <thead>\n",
       "    <tr style=\"text-align: right;\">\n",
       "      <th></th>\n",
       "      <th>time</th>\n",
       "      <th>number</th>\n",
       "      <th>pupil_left_eye</th>\n",
       "      <th>code_left_eye</th>\n",
       "      <th>pupil_right_eye</th>\n",
       "      <th>code_right_eye</th>\n",
       "    </tr>\n",
       "  </thead>\n",
       "  <tbody>\n",
       "    <tr>\n",
       "      <th>7</th>\n",
       "      <td>153</td>\n",
       "      <td>8</td>\n",
       "      <td>3.921</td>\n",
       "      <td>0</td>\n",
       "      <td>3.681</td>\n",
       "      <td>0</td>\n",
       "    </tr>\n",
       "    <tr>\n",
       "      <th>8</th>\n",
       "      <td>172</td>\n",
       "      <td>9</td>\n",
       "      <td>3.898</td>\n",
       "      <td>0</td>\n",
       "      <td>3.784</td>\n",
       "      <td>0</td>\n",
       "    </tr>\n",
       "    <tr>\n",
       "      <th>9</th>\n",
       "      <td>192</td>\n",
       "      <td>10</td>\n",
       "      <td>3.811</td>\n",
       "      <td>0</td>\n",
       "      <td>3.688</td>\n",
       "      <td>0</td>\n",
       "    </tr>\n",
       "    <tr>\n",
       "      <th>15</th>\n",
       "      <td>312</td>\n",
       "      <td>16</td>\n",
       "      <td>3.948</td>\n",
       "      <td>0</td>\n",
       "      <td>4.022</td>\n",
       "      <td>0</td>\n",
       "    </tr>\n",
       "    <tr>\n",
       "      <th>17</th>\n",
       "      <td>352</td>\n",
       "      <td>18</td>\n",
       "      <td>3.810</td>\n",
       "      <td>0</td>\n",
       "      <td>3.781</td>\n",
       "      <td>0</td>\n",
       "    </tr>\n",
       "  </tbody>\n",
       "</table>\n",
       "</div>"
      ],
      "text/plain": [
       "    time  number  pupil_left_eye  code_left_eye  pupil_right_eye  \\\n",
       "7    153       8           3.921              0            3.681   \n",
       "8    172       9           3.898              0            3.784   \n",
       "9    192      10           3.811              0            3.688   \n",
       "15   312      16           3.948              0            4.022   \n",
       "17   352      18           3.810              0            3.781   \n",
       "\n",
       "    code_right_eye  \n",
       "7                0  \n",
       "8                0  \n",
       "9                0  \n",
       "15               0  \n",
       "17               0  "
      ]
     },
     "execution_count": 14,
     "metadata": {},
     "output_type": "execute_result"
    }
   ],
   "source": [
    "final_df_tree.head()"
   ]
  },
  {
   "cell_type": "code",
   "execution_count": null,
   "metadata": {},
   "outputs": [],
   "source": [
    "final_df_tree = final_df_tree.drop(['screen_x_left_eye','screen_y_left_eye','cam_x_left_eye','cam_y_left_eye',\n",
    "                                    'distance_left_eye','screen_x_right_eye','screen_y_right_eye','cam_x_rigth_eye', \n",
    "                                    'cam_y_right_eye', 'distance_right_eye'],axis = 1)"
   ]
  }
 ],
 "metadata": {
  "kernelspec": {
   "display_name": "Python 3",
   "language": "python",
   "name": "python3"
  },
  "language_info": {
   "codemirror_mode": {
    "name": "ipython",
    "version": 3
   },
   "file_extension": ".py",
   "mimetype": "text/x-python",
   "name": "python",
   "nbconvert_exporter": "python",
   "pygments_lexer": "ipython3",
   "version": "3.7.3"
  }
 },
 "nbformat": 4,
 "nbformat_minor": 2
}
