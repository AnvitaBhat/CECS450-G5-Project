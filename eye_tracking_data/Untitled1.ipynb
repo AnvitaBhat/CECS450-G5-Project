{
 "cells": [
  {
   "cell_type": "code",
   "execution_count": 105,
   "metadata": {},
   "outputs": [],
   "source": [
    "#importing necessary libraries\n",
    "import pandas as pd\n",
    "import numpy as np\n",
    "import matplotlib.pyplot as plt\n",
    "import seaborn as sns\n",
    "import os\n",
    "import sys\n",
    "import warnings\n",
    "warnings.filterwarnings(\"ignore\")"
   ]
  },
  {
   "cell_type": "code",
   "execution_count": 106,
   "metadata": {},
   "outputs": [],
   "source": [
    "tree_fxd_df = pd.read_csv(\"p1/p1.treeFXD.txt\", sep = \"\\t\", header=None)\n",
    "tree_gzd_df = pd.read_csv(\"p1/p1.treeGZD.txt\", sep = \"\\t\", header=None)\n",
    "graph_fxd_df = pd.read_csv(\"p1/p1.graphFXD.txt\", sep = \"\\t\", header=None)\n",
    "graph_gzd_df = pd.read_csv(\"p1/p1.graphGZD.txt\", sep = \"\\t\", header=None)\n",
    "baseline_gzd_df =  pd.read_csv(\"p1/p1GZD.txt\", sep = \"\\t\", header=None)"
   ]
  },
  {
   "cell_type": "code",
   "execution_count": 107,
   "metadata": {},
   "outputs": [],
   "source": [
    "tree_gzd_df.rename(columns ={0:'time', \n",
    "                     1: 'number', \n",
    "                     2: 'screen_x_left_eye', \n",
    "                     3: 'screen_y_left_eye', \n",
    "                     4: 'cam_x_left_eye',\n",
    "                     5:'cam_y_left_eye',\n",
    "                     6:'distance_left_eye',\n",
    "                     7:'pupil_left_eye',\n",
    "                     8:'code_left_eye', \n",
    "                    9:'screen_x_right_eye', \n",
    "                    10:'screen_y_right_eye',\n",
    "                    11:'cam_x_rigth_eye',\n",
    "                    12:'cam_y_right_eye',\n",
    "                    13:'distance_right_eye', \n",
    "                    14:'pupil_right_eye', \n",
    "                    15:'code_right_eye'},inplace = True)"
   ]
  },
  {
   "cell_type": "code",
   "execution_count": 108,
   "metadata": {},
   "outputs": [],
   "source": [
    "graph_fxd_df.rename(columns = {0:'number', \n",
    "                     1: 'time', \n",
    "                     2: 'duration', \n",
    "                     3: 'screen_x', \n",
    "                     4: 'secrren_y'}, inplace = True)"
   ]
  },
  {
   "cell_type": "code",
   "execution_count": 109,
   "metadata": {},
   "outputs": [],
   "source": [
    "tree_fxd_df.rename(columns = {0:'number', \n",
    "                     1: 'time', \n",
    "                     2: 'duration', \n",
    "                     3: 'screen_x', \n",
    "                     4: 'secrren_y'}, inplace = True)"
   ]
  },
  {
   "cell_type": "code",
   "execution_count": 110,
   "metadata": {},
   "outputs": [],
   "source": [
    "graph_gzd_df.rename(columns ={0:'time', \n",
    "                     1: 'number', \n",
    "                     2: 'screen_x_left_eye', \n",
    "                     3: 'screen_y_left_eye', \n",
    "                     4: 'cam_x_left_eye',\n",
    "                     5:'cam_y_left_eye',\n",
    "                     6:'distance_left_eye',\n",
    "                     7:'pupil_left_eye',\n",
    "                     8:'code_left_eye', \n",
    "                    9:'screen_x_right_eye', \n",
    "                    10:'screen_y_right_eye',\n",
    "                    11:'cam_x_rigth_eye',\n",
    "                    12:'cam_y_right_eye',\n",
    "                    13:'distance_right_eye', \n",
    "                    14:'pupil_right_eye', \n",
    "                    15:'code_right_eye'},inplace = True)"
   ]
  },
  {
   "cell_type": "code",
   "execution_count": 111,
   "metadata": {},
   "outputs": [],
   "source": [
    "\n",
    "baseline_gzd_df.rename(columns ={0:'time', \n",
    "                     1: 'number', \n",
    "                     2: 'screen_x_left_eye', \n",
    "                     3: 'screen_y_left_eye', \n",
    "                     4: 'cam_x_left_eye',\n",
    "                     5:'cam_y_left_eye',\n",
    "                     6:'distance_left_eye',\n",
    "                     7:'pupil_left_eye',\n",
    "                     8:'code_left_eye', \n",
    "                    9:'screen_x_right_eye', \n",
    "                    10:'screen_y_right_eye',\n",
    "                    11:'cam_x_rigth_eye',\n",
    "                    12:'cam_y_right_eye',\n",
    "                    13:'distance_right_eye', \n",
    "                    14:'pupil_right_eye', \n",
    "                    15:'code_right_eye'},inplace = True)"
   ]
  },
  {
   "cell_type": "code",
   "execution_count": 112,
   "metadata": {},
   "outputs": [],
   "source": [
    "baseline_gzd_df= baseline_gzd_df.loc[((baseline_gzd_df['code_left_eye'] == 0) & (baseline_gzd_df['code_right_eye'] == 0))]"
   ]
  },
  {
   "cell_type": "code",
   "execution_count": 113,
   "metadata": {},
   "outputs": [],
   "source": [
    "final_df_tree = tree_gzd_df.loc[((tree_gzd_df['code_left_eye'] == 0) & (tree_gzd_df['code_right_eye'] == 0))]"
   ]
  },
  {
   "cell_type": "code",
   "execution_count": 114,
   "metadata": {},
   "outputs": [],
   "source": [
    "final_df_tree = final_df_tree.drop(['screen_x_left_eye','screen_y_left_eye','cam_x_left_eye','cam_y_left_eye',\n",
    "                                    'distance_left_eye','code_left_eye','screen_x_right_eye','screen_y_right_eye','cam_x_rigth_eye', \n",
    "                                    'cam_y_right_eye', 'distance_right_eye', 'code_right_eye'],axis = 1)"
   ]
  },
  {
   "cell_type": "code",
   "execution_count": 115,
   "metadata": {},
   "outputs": [
    {
     "data": {
      "text/html": [
       "<div>\n",
       "<style scoped>\n",
       "    .dataframe tbody tr th:only-of-type {\n",
       "        vertical-align: middle;\n",
       "    }\n",
       "\n",
       "    .dataframe tbody tr th {\n",
       "        vertical-align: top;\n",
       "    }\n",
       "\n",
       "    .dataframe thead th {\n",
       "        text-align: right;\n",
       "    }\n",
       "</style>\n",
       "<table border=\"1\" class=\"dataframe\">\n",
       "  <thead>\n",
       "    <tr style=\"text-align: right;\">\n",
       "      <th></th>\n",
       "      <th>time</th>\n",
       "      <th>number</th>\n",
       "      <th>pupil_left_eye</th>\n",
       "      <th>pupil_right_eye</th>\n",
       "    </tr>\n",
       "  </thead>\n",
       "  <tbody>\n",
       "    <tr>\n",
       "      <th>7</th>\n",
       "      <td>153</td>\n",
       "      <td>8</td>\n",
       "      <td>3.921</td>\n",
       "      <td>3.681</td>\n",
       "    </tr>\n",
       "    <tr>\n",
       "      <th>8</th>\n",
       "      <td>172</td>\n",
       "      <td>9</td>\n",
       "      <td>3.898</td>\n",
       "      <td>3.784</td>\n",
       "    </tr>\n",
       "    <tr>\n",
       "      <th>9</th>\n",
       "      <td>192</td>\n",
       "      <td>10</td>\n",
       "      <td>3.811</td>\n",
       "      <td>3.688</td>\n",
       "    </tr>\n",
       "    <tr>\n",
       "      <th>15</th>\n",
       "      <td>312</td>\n",
       "      <td>16</td>\n",
       "      <td>3.948</td>\n",
       "      <td>4.022</td>\n",
       "    </tr>\n",
       "    <tr>\n",
       "      <th>17</th>\n",
       "      <td>352</td>\n",
       "      <td>18</td>\n",
       "      <td>3.810</td>\n",
       "      <td>3.781</td>\n",
       "    </tr>\n",
       "  </tbody>\n",
       "</table>\n",
       "</div>"
      ],
      "text/plain": [
       "    time  number  pupil_left_eye  pupil_right_eye\n",
       "7    153       8           3.921            3.681\n",
       "8    172       9           3.898            3.784\n",
       "9    192      10           3.811            3.688\n",
       "15   312      16           3.948            4.022\n",
       "17   352      18           3.810            3.781"
      ]
     },
     "execution_count": 115,
     "metadata": {},
     "output_type": "execute_result"
    }
   ],
   "source": [
    "final_df_tree.head()"
   ]
  },
  {
   "cell_type": "code",
   "execution_count": 116,
   "metadata": {},
   "outputs": [],
   "source": [
    "final_df_graph = graph_gzd_df.loc[((graph_gzd_df['code_left_eye'] == 0) & (graph_gzd_df['code_right_eye'] == 0))]"
   ]
  },
  {
   "cell_type": "code",
   "execution_count": 117,
   "metadata": {},
   "outputs": [],
   "source": [
    "final_df_graph = final_df_graph.drop(['screen_x_left_eye','screen_y_left_eye','cam_x_left_eye','cam_y_left_eye',\n",
    "                                    'distance_left_eye','code_left_eye','screen_x_right_eye','screen_y_right_eye','cam_x_rigth_eye', \n",
    "                                    'cam_y_right_eye', 'distance_right_eye', 'code_right_eye'],axis = 1)"
   ]
  },
  {
   "cell_type": "code",
   "execution_count": 118,
   "metadata": {},
   "outputs": [
    {
     "data": {
      "text/html": [
       "<div>\n",
       "<style scoped>\n",
       "    .dataframe tbody tr th:only-of-type {\n",
       "        vertical-align: middle;\n",
       "    }\n",
       "\n",
       "    .dataframe tbody tr th {\n",
       "        vertical-align: top;\n",
       "    }\n",
       "\n",
       "    .dataframe thead th {\n",
       "        text-align: right;\n",
       "    }\n",
       "</style>\n",
       "<table border=\"1\" class=\"dataframe\">\n",
       "  <thead>\n",
       "    <tr style=\"text-align: right;\">\n",
       "      <th></th>\n",
       "      <th>time</th>\n",
       "      <th>number</th>\n",
       "      <th>pupil_left_eye</th>\n",
       "      <th>pupil_right_eye</th>\n",
       "    </tr>\n",
       "  </thead>\n",
       "  <tbody>\n",
       "    <tr>\n",
       "      <th>6</th>\n",
       "      <td>127</td>\n",
       "      <td>7</td>\n",
       "      <td>3.763</td>\n",
       "      <td>3.716</td>\n",
       "    </tr>\n",
       "    <tr>\n",
       "      <th>7</th>\n",
       "      <td>147</td>\n",
       "      <td>8</td>\n",
       "      <td>3.828</td>\n",
       "      <td>3.709</td>\n",
       "    </tr>\n",
       "    <tr>\n",
       "      <th>8</th>\n",
       "      <td>167</td>\n",
       "      <td>9</td>\n",
       "      <td>3.731</td>\n",
       "      <td>3.743</td>\n",
       "    </tr>\n",
       "    <tr>\n",
       "      <th>9</th>\n",
       "      <td>187</td>\n",
       "      <td>10</td>\n",
       "      <td>3.768</td>\n",
       "      <td>3.851</td>\n",
       "    </tr>\n",
       "    <tr>\n",
       "      <th>11</th>\n",
       "      <td>226</td>\n",
       "      <td>12</td>\n",
       "      <td>3.903</td>\n",
       "      <td>3.608</td>\n",
       "    </tr>\n",
       "  </tbody>\n",
       "</table>\n",
       "</div>"
      ],
      "text/plain": [
       "    time  number  pupil_left_eye  pupil_right_eye\n",
       "6    127       7           3.763            3.716\n",
       "7    147       8           3.828            3.709\n",
       "8    167       9           3.731            3.743\n",
       "9    187      10           3.768            3.851\n",
       "11   226      12           3.903            3.608"
      ]
     },
     "execution_count": 118,
     "metadata": {},
     "output_type": "execute_result"
    }
   ],
   "source": [
    "final_df_graph.head()"
   ]
  },
  {
   "cell_type": "code",
   "execution_count": 119,
   "metadata": {},
   "outputs": [
    {
     "name": "stdout",
     "output_type": "stream",
     "text": [
      "The negative values in final_tree_df for pupil_left_eye and pupil_right_eye are 6 and 1\n"
     ]
    }
   ],
   "source": [
    "\n",
    "# chceking for negative values of pupil size in final_df_tree\n",
    "neg_left_tree = sum(n<0 for n in final_df_tree['pupil_left_eye'].values.flatten())\n",
    "neg_right_tree = sum(n<0 for n in final_df_tree['pupil_right_eye'].values.flatten())\n",
    "print('The negative values in final_tree_df for pupil_left_eye and pupil_right_eye are {} and {}'\n",
    "            .format(neg_left_tree,neg_right_tree))"
   ]
  },
  {
   "cell_type": "code",
   "execution_count": 120,
   "metadata": {},
   "outputs": [
    {
     "name": "stdout",
     "output_type": "stream",
     "text": [
      "The negative values in final_tree_df for pupil_left_eye and pupil_right_eye are 12 and 0\n"
     ]
    }
   ],
   "source": [
    "neg_left_graph = sum(n<0 for n in final_df_graph['pupil_left_eye'].values.flatten())\n",
    "neg_right_graph = sum(n<0 for n in final_df_graph['pupil_right_eye'].values.flatten())\n",
    "print('The negative values in final_tree_df for pupil_left_eye and pupil_right_eye are {} and {}'\n",
    "            .format(neg_left_graph,neg_right_graph))"
   ]
  },
  {
   "cell_type": "code",
   "execution_count": 121,
   "metadata": {},
   "outputs": [],
   "source": [
    "# Dropping the negative values of pupil_left_eye from tree dataframe\n",
    "final_df_tree = final_df_tree[final_df_tree.pupil_left_eye > 0]"
   ]
  },
  {
   "cell_type": "code",
   "execution_count": 122,
   "metadata": {},
   "outputs": [
    {
     "data": {
      "text/plain": [
       "False    68416\n",
       "Name: pupil_left_eye, dtype: int64"
      ]
     },
     "execution_count": 122,
     "metadata": {},
     "output_type": "execute_result"
    }
   ],
   "source": [
    "\n",
    "# checking the number of null values \n",
    "final_df_tree['pupil_left_eye'].isnull().value_counts()"
   ]
  },
  {
   "cell_type": "code",
   "execution_count": 123,
   "metadata": {},
   "outputs": [],
   "source": [
    "\n",
    "# Dropping the negative values of pupil_left_eye from graph dataframe\n",
    "final_df_graph = final_df_graph[final_df_graph.pupil_left_eye> 0]"
   ]
  },
  {
   "cell_type": "code",
   "execution_count": 124,
   "metadata": {},
   "outputs": [
    {
     "data": {
      "text/plain": [
       "False    88628\n",
       "Name: pupil_left_eye, dtype: int64"
      ]
     },
     "execution_count": 124,
     "metadata": {},
     "output_type": "execute_result"
    }
   ],
   "source": [
    "# Checking the number of null values\n",
    "final_df_graph['pupil_left_eye'].isnull().value_counts()"
   ]
  },
  {
   "cell_type": "code",
   "execution_count": 125,
   "metadata": {},
   "outputs": [],
   "source": [
    "# Calculating the mean of pupil size in baseline data\n",
    "baseline_left_eye_mean  = baseline_gzd_df['pupil_left_eye'].mean()\n",
    "baseline_right_eye_mean = baseline_gzd_df['pupil_right_eye'].mean()"
   ]
  },
  {
   "cell_type": "code",
   "execution_count": 126,
   "metadata": {},
   "outputs": [
    {
     "name": "stdout",
     "output_type": "stream",
     "text": [
      "The average pupil size of the baseline data is 3.5611559139784967\n"
     ]
    }
   ],
   "source": [
    "\n",
    "# Calualting the average pupil size in baseline data\n",
    "average_pupil_size_baseline = (baseline_left_eye_mean+baseline_right_eye_mean)/2\n",
    "print('The average pupil size of the baseline data is {}'.format(average_pupil_size_baseline))"
   ]
  },
  {
   "cell_type": "code",
   "execution_count": 127,
   "metadata": {},
   "outputs": [],
   "source": [
    "# Calculating  average pupil dilation size of tree gaze data from pupil_left_eye and pupilt_right_eye of tree gaze data\n",
    "final_df_tree['avg_dilation'] = final_df_tree[['pupil_left_eye', 'pupil_right_eye']].mean(axis=1)"
   ]
  },
  {
   "cell_type": "code",
   "execution_count": 128,
   "metadata": {},
   "outputs": [],
   "source": [
    "#Subtracting the avg_dilation from the baseline data\n",
    "final_df_tree['avg_dilation'] = abs(final_df_tree['avg_dilation']-average_pupil_size_baseline)"
   ]
  },
  {
   "cell_type": "code",
   "execution_count": 129,
   "metadata": {},
   "outputs": [
    {
     "data": {
      "text/html": [
       "<div>\n",
       "<style scoped>\n",
       "    .dataframe tbody tr th:only-of-type {\n",
       "        vertical-align: middle;\n",
       "    }\n",
       "\n",
       "    .dataframe tbody tr th {\n",
       "        vertical-align: top;\n",
       "    }\n",
       "\n",
       "    .dataframe thead th {\n",
       "        text-align: right;\n",
       "    }\n",
       "</style>\n",
       "<table border=\"1\" class=\"dataframe\">\n",
       "  <thead>\n",
       "    <tr style=\"text-align: right;\">\n",
       "      <th></th>\n",
       "      <th>time</th>\n",
       "      <th>number</th>\n",
       "      <th>pupil_left_eye</th>\n",
       "      <th>pupil_right_eye</th>\n",
       "      <th>avg_dilation</th>\n",
       "    </tr>\n",
       "  </thead>\n",
       "  <tbody>\n",
       "    <tr>\n",
       "      <th>7</th>\n",
       "      <td>153</td>\n",
       "      <td>8</td>\n",
       "      <td>3.921</td>\n",
       "      <td>3.681</td>\n",
       "      <td>0.239844</td>\n",
       "    </tr>\n",
       "    <tr>\n",
       "      <th>8</th>\n",
       "      <td>172</td>\n",
       "      <td>9</td>\n",
       "      <td>3.898</td>\n",
       "      <td>3.784</td>\n",
       "      <td>0.279844</td>\n",
       "    </tr>\n",
       "    <tr>\n",
       "      <th>9</th>\n",
       "      <td>192</td>\n",
       "      <td>10</td>\n",
       "      <td>3.811</td>\n",
       "      <td>3.688</td>\n",
       "      <td>0.188344</td>\n",
       "    </tr>\n",
       "    <tr>\n",
       "      <th>15</th>\n",
       "      <td>312</td>\n",
       "      <td>16</td>\n",
       "      <td>3.948</td>\n",
       "      <td>4.022</td>\n",
       "      <td>0.423844</td>\n",
       "    </tr>\n",
       "    <tr>\n",
       "      <th>17</th>\n",
       "      <td>352</td>\n",
       "      <td>18</td>\n",
       "      <td>3.810</td>\n",
       "      <td>3.781</td>\n",
       "      <td>0.234344</td>\n",
       "    </tr>\n",
       "    <tr>\n",
       "      <th>18</th>\n",
       "      <td>372</td>\n",
       "      <td>19</td>\n",
       "      <td>3.782</td>\n",
       "      <td>3.712</td>\n",
       "      <td>0.185844</td>\n",
       "    </tr>\n",
       "    <tr>\n",
       "      <th>19</th>\n",
       "      <td>392</td>\n",
       "      <td>20</td>\n",
       "      <td>3.744</td>\n",
       "      <td>3.688</td>\n",
       "      <td>0.154844</td>\n",
       "    </tr>\n",
       "    <tr>\n",
       "      <th>20</th>\n",
       "      <td>412</td>\n",
       "      <td>21</td>\n",
       "      <td>3.812</td>\n",
       "      <td>3.852</td>\n",
       "      <td>0.270844</td>\n",
       "    </tr>\n",
       "    <tr>\n",
       "      <th>22</th>\n",
       "      <td>452</td>\n",
       "      <td>23</td>\n",
       "      <td>3.769</td>\n",
       "      <td>3.779</td>\n",
       "      <td>0.212844</td>\n",
       "    </tr>\n",
       "    <tr>\n",
       "      <th>23</th>\n",
       "      <td>472</td>\n",
       "      <td>24</td>\n",
       "      <td>3.785</td>\n",
       "      <td>3.636</td>\n",
       "      <td>0.149344</td>\n",
       "    </tr>\n",
       "  </tbody>\n",
       "</table>\n",
       "</div>"
      ],
      "text/plain": [
       "    time  number  pupil_left_eye  pupil_right_eye  avg_dilation\n",
       "7    153       8           3.921            3.681      0.239844\n",
       "8    172       9           3.898            3.784      0.279844\n",
       "9    192      10           3.811            3.688      0.188344\n",
       "15   312      16           3.948            4.022      0.423844\n",
       "17   352      18           3.810            3.781      0.234344\n",
       "18   372      19           3.782            3.712      0.185844\n",
       "19   392      20           3.744            3.688      0.154844\n",
       "20   412      21           3.812            3.852      0.270844\n",
       "22   452      23           3.769            3.779      0.212844\n",
       "23   472      24           3.785            3.636      0.149344"
      ]
     },
     "execution_count": 129,
     "metadata": {},
     "output_type": "execute_result"
    }
   ],
   "source": [
    "final_df_tree.head(10)"
   ]
  },
  {
   "cell_type": "code",
   "execution_count": 130,
   "metadata": {},
   "outputs": [],
   "source": [
    "\n",
    "# Calculating  average pupil dilation size of graph gaze data from pupil_left_eye and pupilt_right_eye of graph gaze data\n",
    "final_df_graph['avg_dilation'] = final_df_graph[['pupil_left_eye', 'pupil_right_eye']].mean(axis=1)"
   ]
  },
  {
   "cell_type": "code",
   "execution_count": 131,
   "metadata": {},
   "outputs": [],
   "source": [
    "#Subtracting the avg_dilation from the baseline data\n",
    "final_df_graph['avg_dilation'] = abs(final_df_graph['avg_dilation'] - average_pupil_size_baseline)"
   ]
  },
  {
   "cell_type": "code",
   "execution_count": 132,
   "metadata": {},
   "outputs": [
    {
     "data": {
      "text/html": [
       "<div>\n",
       "<style scoped>\n",
       "    .dataframe tbody tr th:only-of-type {\n",
       "        vertical-align: middle;\n",
       "    }\n",
       "\n",
       "    .dataframe tbody tr th {\n",
       "        vertical-align: top;\n",
       "    }\n",
       "\n",
       "    .dataframe thead th {\n",
       "        text-align: right;\n",
       "    }\n",
       "</style>\n",
       "<table border=\"1\" class=\"dataframe\">\n",
       "  <thead>\n",
       "    <tr style=\"text-align: right;\">\n",
       "      <th></th>\n",
       "      <th>time</th>\n",
       "      <th>number</th>\n",
       "      <th>pupil_left_eye</th>\n",
       "      <th>pupil_right_eye</th>\n",
       "      <th>avg_dilation</th>\n",
       "    </tr>\n",
       "  </thead>\n",
       "  <tbody>\n",
       "    <tr>\n",
       "      <th>6</th>\n",
       "      <td>127</td>\n",
       "      <td>7</td>\n",
       "      <td>3.763</td>\n",
       "      <td>3.716</td>\n",
       "      <td>0.178344</td>\n",
       "    </tr>\n",
       "    <tr>\n",
       "      <th>7</th>\n",
       "      <td>147</td>\n",
       "      <td>8</td>\n",
       "      <td>3.828</td>\n",
       "      <td>3.709</td>\n",
       "      <td>0.207344</td>\n",
       "    </tr>\n",
       "    <tr>\n",
       "      <th>8</th>\n",
       "      <td>167</td>\n",
       "      <td>9</td>\n",
       "      <td>3.731</td>\n",
       "      <td>3.743</td>\n",
       "      <td>0.175844</td>\n",
       "    </tr>\n",
       "    <tr>\n",
       "      <th>9</th>\n",
       "      <td>187</td>\n",
       "      <td>10</td>\n",
       "      <td>3.768</td>\n",
       "      <td>3.851</td>\n",
       "      <td>0.248344</td>\n",
       "    </tr>\n",
       "    <tr>\n",
       "      <th>11</th>\n",
       "      <td>226</td>\n",
       "      <td>12</td>\n",
       "      <td>3.903</td>\n",
       "      <td>3.608</td>\n",
       "      <td>0.194344</td>\n",
       "    </tr>\n",
       "    <tr>\n",
       "      <th>12</th>\n",
       "      <td>246</td>\n",
       "      <td>13</td>\n",
       "      <td>3.900</td>\n",
       "      <td>3.743</td>\n",
       "      <td>0.260344</td>\n",
       "    </tr>\n",
       "    <tr>\n",
       "      <th>13</th>\n",
       "      <td>266</td>\n",
       "      <td>14</td>\n",
       "      <td>3.838</td>\n",
       "      <td>3.724</td>\n",
       "      <td>0.219844</td>\n",
       "    </tr>\n",
       "    <tr>\n",
       "      <th>14</th>\n",
       "      <td>286</td>\n",
       "      <td>15</td>\n",
       "      <td>3.763</td>\n",
       "      <td>3.860</td>\n",
       "      <td>0.250344</td>\n",
       "    </tr>\n",
       "    <tr>\n",
       "      <th>16</th>\n",
       "      <td>326</td>\n",
       "      <td>17</td>\n",
       "      <td>3.860</td>\n",
       "      <td>3.868</td>\n",
       "      <td>0.302844</td>\n",
       "    </tr>\n",
       "    <tr>\n",
       "      <th>17</th>\n",
       "      <td>346</td>\n",
       "      <td>18</td>\n",
       "      <td>3.844</td>\n",
       "      <td>3.804</td>\n",
       "      <td>0.262844</td>\n",
       "    </tr>\n",
       "  </tbody>\n",
       "</table>\n",
       "</div>"
      ],
      "text/plain": [
       "    time  number  pupil_left_eye  pupil_right_eye  avg_dilation\n",
       "6    127       7           3.763            3.716      0.178344\n",
       "7    147       8           3.828            3.709      0.207344\n",
       "8    167       9           3.731            3.743      0.175844\n",
       "9    187      10           3.768            3.851      0.248344\n",
       "11   226      12           3.903            3.608      0.194344\n",
       "12   246      13           3.900            3.743      0.260344\n",
       "13   266      14           3.838            3.724      0.219844\n",
       "14   286      15           3.763            3.860      0.250344\n",
       "16   326      17           3.860            3.868      0.302844\n",
       "17   346      18           3.844            3.804      0.262844"
      ]
     },
     "execution_count": 132,
     "metadata": {},
     "output_type": "execute_result"
    }
   ],
   "source": [
    "\n",
    "final_df_graph.head(10)"
   ]
  },
  {
   "cell_type": "code",
   "execution_count": 133,
   "metadata": {},
   "outputs": [],
   "source": [
    "\n",
    "final_df_tree = final_df_tree.drop(['pupil_left_eye','pupil_right_eye'], axis = 1)"
   ]
  },
  {
   "cell_type": "code",
   "execution_count": 134,
   "metadata": {},
   "outputs": [],
   "source": [
    "\n",
    "final_df_graph = final_df_graph.drop(['pupil_left_eye','pupil_right_eye'], axis = 1)"
   ]
  },
  {
   "cell_type": "code",
   "execution_count": 135,
   "metadata": {},
   "outputs": [
    {
     "data": {
      "text/html": [
       "<div>\n",
       "<style scoped>\n",
       "    .dataframe tbody tr th:only-of-type {\n",
       "        vertical-align: middle;\n",
       "    }\n",
       "\n",
       "    .dataframe tbody tr th {\n",
       "        vertical-align: top;\n",
       "    }\n",
       "\n",
       "    .dataframe thead th {\n",
       "        text-align: right;\n",
       "    }\n",
       "</style>\n",
       "<table border=\"1\" class=\"dataframe\">\n",
       "  <thead>\n",
       "    <tr style=\"text-align: right;\">\n",
       "      <th></th>\n",
       "      <th>time</th>\n",
       "      <th>number</th>\n",
       "      <th>avg_dilation</th>\n",
       "    </tr>\n",
       "  </thead>\n",
       "  <tbody>\n",
       "    <tr>\n",
       "      <th>7</th>\n",
       "      <td>153</td>\n",
       "      <td>8</td>\n",
       "      <td>0.239844</td>\n",
       "    </tr>\n",
       "    <tr>\n",
       "      <th>8</th>\n",
       "      <td>172</td>\n",
       "      <td>9</td>\n",
       "      <td>0.279844</td>\n",
       "    </tr>\n",
       "    <tr>\n",
       "      <th>9</th>\n",
       "      <td>192</td>\n",
       "      <td>10</td>\n",
       "      <td>0.188344</td>\n",
       "    </tr>\n",
       "    <tr>\n",
       "      <th>15</th>\n",
       "      <td>312</td>\n",
       "      <td>16</td>\n",
       "      <td>0.423844</td>\n",
       "    </tr>\n",
       "    <tr>\n",
       "      <th>17</th>\n",
       "      <td>352</td>\n",
       "      <td>18</td>\n",
       "      <td>0.234344</td>\n",
       "    </tr>\n",
       "  </tbody>\n",
       "</table>\n",
       "</div>"
      ],
      "text/plain": [
       "    time  number  avg_dilation\n",
       "7    153       8      0.239844\n",
       "8    172       9      0.279844\n",
       "9    192      10      0.188344\n",
       "15   312      16      0.423844\n",
       "17   352      18      0.234344"
      ]
     },
     "execution_count": 135,
     "metadata": {},
     "output_type": "execute_result"
    }
   ],
   "source": [
    "final_df_tree.head()"
   ]
  },
  {
   "cell_type": "code",
   "execution_count": 139,
   "metadata": {},
   "outputs": [
    {
     "data": {
      "text/html": [
       "<div>\n",
       "<style scoped>\n",
       "    .dataframe tbody tr th:only-of-type {\n",
       "        vertical-align: middle;\n",
       "    }\n",
       "\n",
       "    .dataframe tbody tr th {\n",
       "        vertical-align: top;\n",
       "    }\n",
       "\n",
       "    .dataframe thead th {\n",
       "        text-align: right;\n",
       "    }\n",
       "</style>\n",
       "<table border=\"1\" class=\"dataframe\">\n",
       "  <thead>\n",
       "    <tr style=\"text-align: right;\">\n",
       "      <th></th>\n",
       "      <th>time</th>\n",
       "      <th>number</th>\n",
       "      <th>avg_dilation</th>\n",
       "    </tr>\n",
       "  </thead>\n",
       "  <tbody>\n",
       "    <tr>\n",
       "      <th>6</th>\n",
       "      <td>127</td>\n",
       "      <td>7</td>\n",
       "      <td>0.178344</td>\n",
       "    </tr>\n",
       "    <tr>\n",
       "      <th>7</th>\n",
       "      <td>147</td>\n",
       "      <td>8</td>\n",
       "      <td>0.207344</td>\n",
       "    </tr>\n",
       "    <tr>\n",
       "      <th>8</th>\n",
       "      <td>167</td>\n",
       "      <td>9</td>\n",
       "      <td>0.175844</td>\n",
       "    </tr>\n",
       "    <tr>\n",
       "      <th>9</th>\n",
       "      <td>187</td>\n",
       "      <td>10</td>\n",
       "      <td>0.248344</td>\n",
       "    </tr>\n",
       "    <tr>\n",
       "      <th>11</th>\n",
       "      <td>226</td>\n",
       "      <td>12</td>\n",
       "      <td>0.194344</td>\n",
       "    </tr>\n",
       "  </tbody>\n",
       "</table>\n",
       "</div>"
      ],
      "text/plain": [
       "    time  number  avg_dilation\n",
       "6    127       7      0.178344\n",
       "7    147       8      0.207344\n",
       "8    167       9      0.175844\n",
       "9    187      10      0.248344\n",
       "11   226      12      0.194344"
      ]
     },
     "execution_count": 139,
     "metadata": {},
     "output_type": "execute_result"
    }
   ],
   "source": [
    "final_df_graph.head()"
   ]
  },
  {
   "cell_type": "code",
   "execution_count": 140,
   "metadata": {},
   "outputs": [],
   "source": [
    "# Performing left join on fixation data to see change in avg_dilation with size in tree_fxd_df\n",
    "merged_df_tree = pd.merge(tree_fxd_df, final_df_tree, on = 'time', how = 'left')"
   ]
  },
  {
   "cell_type": "code",
   "execution_count": 141,
   "metadata": {},
   "outputs": [
    {
     "data": {
      "text/html": [
       "<div>\n",
       "<style scoped>\n",
       "    .dataframe tbody tr th:only-of-type {\n",
       "        vertical-align: middle;\n",
       "    }\n",
       "\n",
       "    .dataframe tbody tr th {\n",
       "        vertical-align: top;\n",
       "    }\n",
       "\n",
       "    .dataframe thead th {\n",
       "        text-align: right;\n",
       "    }\n",
       "</style>\n",
       "<table border=\"1\" class=\"dataframe\">\n",
       "  <thead>\n",
       "    <tr style=\"text-align: right;\">\n",
       "      <th></th>\n",
       "      <th>number_x</th>\n",
       "      <th>time</th>\n",
       "      <th>duration</th>\n",
       "      <th>screen_x</th>\n",
       "      <th>secrren_y</th>\n",
       "      <th>number_y</th>\n",
       "      <th>avg_dilation</th>\n",
       "    </tr>\n",
       "  </thead>\n",
       "  <tbody>\n",
       "    <tr>\n",
       "      <th>0</th>\n",
       "      <td>1</td>\n",
       "      <td>2027</td>\n",
       "      <td>100</td>\n",
       "      <td>1005</td>\n",
       "      <td>60</td>\n",
       "      <td>102.0</td>\n",
       "      <td>0.213344</td>\n",
       "    </tr>\n",
       "    <tr>\n",
       "      <th>1</th>\n",
       "      <td>2</td>\n",
       "      <td>7968</td>\n",
       "      <td>319</td>\n",
       "      <td>78</td>\n",
       "      <td>237</td>\n",
       "      <td>400.0</td>\n",
       "      <td>0.156344</td>\n",
       "    </tr>\n",
       "    <tr>\n",
       "      <th>2</th>\n",
       "      <td>3</td>\n",
       "      <td>8526</td>\n",
       "      <td>100</td>\n",
       "      <td>246</td>\n",
       "      <td>207</td>\n",
       "      <td>428.0</td>\n",
       "      <td>0.101344</td>\n",
       "    </tr>\n",
       "    <tr>\n",
       "      <th>3</th>\n",
       "      <td>4</td>\n",
       "      <td>9105</td>\n",
       "      <td>140</td>\n",
       "      <td>298</td>\n",
       "      <td>198</td>\n",
       "      <td>457.0</td>\n",
       "      <td>0.103844</td>\n",
       "    </tr>\n",
       "    <tr>\n",
       "      <th>4</th>\n",
       "      <td>5</td>\n",
       "      <td>9962</td>\n",
       "      <td>140</td>\n",
       "      <td>909</td>\n",
       "      <td>1002</td>\n",
       "      <td>500.0</td>\n",
       "      <td>0.058344</td>\n",
       "    </tr>\n",
       "  </tbody>\n",
       "</table>\n",
       "</div>"
      ],
      "text/plain": [
       "   number_x  time  duration  screen_x  secrren_y  number_y  avg_dilation\n",
       "0         1  2027       100      1005         60     102.0      0.213344\n",
       "1         2  7968       319        78        237     400.0      0.156344\n",
       "2         3  8526       100       246        207     428.0      0.101344\n",
       "3         4  9105       140       298        198     457.0      0.103844\n",
       "4         5  9962       140       909       1002     500.0      0.058344"
      ]
     },
     "execution_count": 141,
     "metadata": {},
     "output_type": "execute_result"
    }
   ],
   "source": [
    "merged_df_tree.head()"
   ]
  },
  {
   "cell_type": "code",
   "execution_count": 142,
   "metadata": {},
   "outputs": [],
   "source": [
    "# Performing left join on fixation data to see change in avg_dilation with size in graph_fxd_df\n",
    "merged_df_graph = pd.merge(graph_fxd_df, final_df_graph, on = 'time', how = 'left')"
   ]
  },
  {
   "cell_type": "code",
   "execution_count": 143,
   "metadata": {},
   "outputs": [
    {
     "data": {
      "text/html": [
       "<div>\n",
       "<style scoped>\n",
       "    .dataframe tbody tr th:only-of-type {\n",
       "        vertical-align: middle;\n",
       "    }\n",
       "\n",
       "    .dataframe tbody tr th {\n",
       "        vertical-align: top;\n",
       "    }\n",
       "\n",
       "    .dataframe thead th {\n",
       "        text-align: right;\n",
       "    }\n",
       "</style>\n",
       "<table border=\"1\" class=\"dataframe\">\n",
       "  <thead>\n",
       "    <tr style=\"text-align: right;\">\n",
       "      <th></th>\n",
       "      <th>number_x</th>\n",
       "      <th>time</th>\n",
       "      <th>duration</th>\n",
       "      <th>screen_x</th>\n",
       "      <th>secrren_y</th>\n",
       "      <th>number_y</th>\n",
       "      <th>avg_dilation</th>\n",
       "    </tr>\n",
       "  </thead>\n",
       "  <tbody>\n",
       "    <tr>\n",
       "      <th>0</th>\n",
       "      <td>1</td>\n",
       "      <td>1104</td>\n",
       "      <td>100</td>\n",
       "      <td>728</td>\n",
       "      <td>396</td>\n",
       "      <td>56.0</td>\n",
       "      <td>0.095844</td>\n",
       "    </tr>\n",
       "    <tr>\n",
       "      <th>1</th>\n",
       "      <td>2</td>\n",
       "      <td>2360</td>\n",
       "      <td>179</td>\n",
       "      <td>294</td>\n",
       "      <td>807</td>\n",
       "      <td>119.0</td>\n",
       "      <td>0.039344</td>\n",
       "    </tr>\n",
       "    <tr>\n",
       "      <th>2</th>\n",
       "      <td>3</td>\n",
       "      <td>2858</td>\n",
       "      <td>279</td>\n",
       "      <td>281</td>\n",
       "      <td>777</td>\n",
       "      <td>144.0</td>\n",
       "      <td>0.264844</td>\n",
       "    </tr>\n",
       "    <tr>\n",
       "      <th>3</th>\n",
       "      <td>4</td>\n",
       "      <td>3157</td>\n",
       "      <td>120</td>\n",
       "      <td>281</td>\n",
       "      <td>785</td>\n",
       "      <td>159.0</td>\n",
       "      <td>0.277344</td>\n",
       "    </tr>\n",
       "    <tr>\n",
       "      <th>4</th>\n",
       "      <td>5</td>\n",
       "      <td>3297</td>\n",
       "      <td>319</td>\n",
       "      <td>275</td>\n",
       "      <td>792</td>\n",
       "      <td>166.0</td>\n",
       "      <td>0.135844</td>\n",
       "    </tr>\n",
       "  </tbody>\n",
       "</table>\n",
       "</div>"
      ],
      "text/plain": [
       "   number_x  time  duration  screen_x  secrren_y  number_y  avg_dilation\n",
       "0         1  1104       100       728        396      56.0      0.095844\n",
       "1         2  2360       179       294        807     119.0      0.039344\n",
       "2         3  2858       279       281        777     144.0      0.264844\n",
       "3         4  3157       120       281        785     159.0      0.277344\n",
       "4         5  3297       319       275        792     166.0      0.135844"
      ]
     },
     "execution_count": 143,
     "metadata": {},
     "output_type": "execute_result"
    }
   ],
   "source": [
    "merged_df_graph.head()"
   ]
  },
  {
   "cell_type": "code",
   "execution_count": 144,
   "metadata": {},
   "outputs": [],
   "source": [
    "merged_df_tree = merged_df_tree.drop(['number_x','number_y'], axis = 1)"
   ]
  },
  {
   "cell_type": "code",
   "execution_count": 146,
   "metadata": {},
   "outputs": [],
   "source": [
    "merged_df_graph = merged_df_graph.drop(['number_x','number_y'], axis = 1)"
   ]
  },
  {
   "cell_type": "code",
   "execution_count": 147,
   "metadata": {},
   "outputs": [
    {
     "data": {
      "text/html": [
       "<div>\n",
       "<style scoped>\n",
       "    .dataframe tbody tr th:only-of-type {\n",
       "        vertical-align: middle;\n",
       "    }\n",
       "\n",
       "    .dataframe tbody tr th {\n",
       "        vertical-align: top;\n",
       "    }\n",
       "\n",
       "    .dataframe thead th {\n",
       "        text-align: right;\n",
       "    }\n",
       "</style>\n",
       "<table border=\"1\" class=\"dataframe\">\n",
       "  <thead>\n",
       "    <tr style=\"text-align: right;\">\n",
       "      <th></th>\n",
       "      <th>time</th>\n",
       "      <th>duration</th>\n",
       "      <th>screen_x</th>\n",
       "      <th>secrren_y</th>\n",
       "      <th>avg_dilation</th>\n",
       "    </tr>\n",
       "  </thead>\n",
       "  <tbody>\n",
       "    <tr>\n",
       "      <th>0</th>\n",
       "      <td>2027</td>\n",
       "      <td>100</td>\n",
       "      <td>1005</td>\n",
       "      <td>60</td>\n",
       "      <td>0.213344</td>\n",
       "    </tr>\n",
       "    <tr>\n",
       "      <th>1</th>\n",
       "      <td>7968</td>\n",
       "      <td>319</td>\n",
       "      <td>78</td>\n",
       "      <td>237</td>\n",
       "      <td>0.156344</td>\n",
       "    </tr>\n",
       "    <tr>\n",
       "      <th>2</th>\n",
       "      <td>8526</td>\n",
       "      <td>100</td>\n",
       "      <td>246</td>\n",
       "      <td>207</td>\n",
       "      <td>0.101344</td>\n",
       "    </tr>\n",
       "    <tr>\n",
       "      <th>3</th>\n",
       "      <td>9105</td>\n",
       "      <td>140</td>\n",
       "      <td>298</td>\n",
       "      <td>198</td>\n",
       "      <td>0.103844</td>\n",
       "    </tr>\n",
       "    <tr>\n",
       "      <th>4</th>\n",
       "      <td>9962</td>\n",
       "      <td>140</td>\n",
       "      <td>909</td>\n",
       "      <td>1002</td>\n",
       "      <td>0.058344</td>\n",
       "    </tr>\n",
       "  </tbody>\n",
       "</table>\n",
       "</div>"
      ],
      "text/plain": [
       "   time  duration  screen_x  secrren_y  avg_dilation\n",
       "0  2027       100      1005         60      0.213344\n",
       "1  7968       319        78        237      0.156344\n",
       "2  8526       100       246        207      0.101344\n",
       "3  9105       140       298        198      0.103844\n",
       "4  9962       140       909       1002      0.058344"
      ]
     },
     "execution_count": 147,
     "metadata": {},
     "output_type": "execute_result"
    }
   ],
   "source": [
    "merged_df_tree.head()"
   ]
  },
  {
   "cell_type": "code",
   "execution_count": 148,
   "metadata": {},
   "outputs": [
    {
     "data": {
      "text/html": [
       "<div>\n",
       "<style scoped>\n",
       "    .dataframe tbody tr th:only-of-type {\n",
       "        vertical-align: middle;\n",
       "    }\n",
       "\n",
       "    .dataframe tbody tr th {\n",
       "        vertical-align: top;\n",
       "    }\n",
       "\n",
       "    .dataframe thead th {\n",
       "        text-align: right;\n",
       "    }\n",
       "</style>\n",
       "<table border=\"1\" class=\"dataframe\">\n",
       "  <thead>\n",
       "    <tr style=\"text-align: right;\">\n",
       "      <th></th>\n",
       "      <th>time</th>\n",
       "      <th>duration</th>\n",
       "      <th>screen_x</th>\n",
       "      <th>secrren_y</th>\n",
       "      <th>avg_dilation</th>\n",
       "    </tr>\n",
       "  </thead>\n",
       "  <tbody>\n",
       "    <tr>\n",
       "      <th>0</th>\n",
       "      <td>1104</td>\n",
       "      <td>100</td>\n",
       "      <td>728</td>\n",
       "      <td>396</td>\n",
       "      <td>0.095844</td>\n",
       "    </tr>\n",
       "    <tr>\n",
       "      <th>1</th>\n",
       "      <td>2360</td>\n",
       "      <td>179</td>\n",
       "      <td>294</td>\n",
       "      <td>807</td>\n",
       "      <td>0.039344</td>\n",
       "    </tr>\n",
       "    <tr>\n",
       "      <th>2</th>\n",
       "      <td>2858</td>\n",
       "      <td>279</td>\n",
       "      <td>281</td>\n",
       "      <td>777</td>\n",
       "      <td>0.264844</td>\n",
       "    </tr>\n",
       "    <tr>\n",
       "      <th>3</th>\n",
       "      <td>3157</td>\n",
       "      <td>120</td>\n",
       "      <td>281</td>\n",
       "      <td>785</td>\n",
       "      <td>0.277344</td>\n",
       "    </tr>\n",
       "    <tr>\n",
       "      <th>4</th>\n",
       "      <td>3297</td>\n",
       "      <td>319</td>\n",
       "      <td>275</td>\n",
       "      <td>792</td>\n",
       "      <td>0.135844</td>\n",
       "    </tr>\n",
       "  </tbody>\n",
       "</table>\n",
       "</div>"
      ],
      "text/plain": [
       "   time  duration  screen_x  secrren_y  avg_dilation\n",
       "0  1104       100       728        396      0.095844\n",
       "1  2360       179       294        807      0.039344\n",
       "2  2858       279       281        777      0.264844\n",
       "3  3157       120       281        785      0.277344\n",
       "4  3297       319       275        792      0.135844"
      ]
     },
     "execution_count": 148,
     "metadata": {},
     "output_type": "execute_result"
    }
   ],
   "source": [
    "merged_df_graph.head()"
   ]
  },
  {
   "cell_type": "code",
   "execution_count": 149,
   "metadata": {},
   "outputs": [],
   "source": [
    "graph_avg_dilation_mean  = merged_df_graph['avg_dilation'].mean()"
   ]
  },
  {
   "cell_type": "code",
   "execution_count": 150,
   "metadata": {},
   "outputs": [],
   "source": [
    "tree_avg_dilation_mean  = merged_df_tree['avg_dilation'].mean()"
   ]
  },
  {
   "cell_type": "code",
   "execution_count": 153,
   "metadata": {},
   "outputs": [
    {
     "name": "stdout",
     "output_type": "stream",
     "text": [
      "0.09558113975925348\n"
     ]
    }
   ],
   "source": [
    "print(tree_avg_dilation_mean)"
   ]
  },
  {
   "cell_type": "code",
   "execution_count": 154,
   "metadata": {},
   "outputs": [
    {
     "name": "stdout",
     "output_type": "stream",
     "text": [
      "0.1387314849733133\n"
     ]
    }
   ],
   "source": [
    "print(graph_avg_dilation_mean)"
   ]
  },
  {
   "cell_type": "code",
   "execution_count": null,
   "metadata": {},
   "outputs": [],
   "source": []
  }
 ],
 "metadata": {
  "kernelspec": {
   "display_name": "Python 3",
   "language": "python",
   "name": "python3"
  },
  "language_info": {
   "codemirror_mode": {
    "name": "ipython",
    "version": 3
   },
   "file_extension": ".py",
   "mimetype": "text/x-python",
   "name": "python",
   "nbconvert_exporter": "python",
   "pygments_lexer": "ipython3",
   "version": "3.7.3"
  }
 },
 "nbformat": 4,
 "nbformat_minor": 2
}
